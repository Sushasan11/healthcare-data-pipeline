{
 "cells": [
  {
   "cell_type": "code",
   "execution_count": 1,
   "id": "e84cb52c-8a02-4dd7-aa85-0ee4aae96c78",
   "metadata": {},
   "outputs": [],
   "source": [
    "import pandas as pd"
   ]
  },
  {
   "cell_type": "code",
   "execution_count": 3,
   "id": "dcb661bc-c8d4-4561-b55e-b96da5cda35d",
   "metadata": {},
   "outputs": [],
   "source": [
    "df = pd.read_csv('aggregated_payments_by_state_year.csv')"
   ]
  },
  {
   "cell_type": "code",
   "execution_count": 4,
   "id": "16c76824-911b-4710-90f7-ba6933686689",
   "metadata": {},
   "outputs": [],
   "source": [
    "# Filter rows where BENE_GEO_DESC is a 2-letter state code\n",
    "state_level_df = df[df[\"BENE_GEO_DESC\"].str.len() == 2].copy()"
   ]
  },
  {
   "cell_type": "code",
   "execution_count": 10,
   "id": "19859e28-b286-463f-a514-dc601ada936a",
   "metadata": {},
   "outputs": [],
   "source": [
    "# Save to a new CSV file\n",
    "state_level_df.to_csv(r\"D:\\Data Engineer\\Project\\healthcare-data-pipeline\\state_level_payments.csv\", index=False)"
   ]
  },
  {
   "cell_type": "code",
   "execution_count": 11,
   "id": "aabc08a8-d7be-48e0-9147-b3034c83296b",
   "metadata": {},
   "outputs": [
    {
     "data": {
      "text/html": [
       "<div>\n",
       "<style scoped>\n",
       "    .dataframe tbody tr th:only-of-type {\n",
       "        vertical-align: middle;\n",
       "    }\n",
       "\n",
       "    .dataframe tbody tr th {\n",
       "        vertical-align: top;\n",
       "    }\n",
       "\n",
       "    .dataframe thead th {\n",
       "        text-align: right;\n",
       "    }\n",
       "</style>\n",
       "<table border=\"1\" class=\"dataframe\">\n",
       "  <thead>\n",
       "    <tr style=\"text-align: right;\">\n",
       "      <th></th>\n",
       "      <th>YEAR</th>\n",
       "      <th>BENE_GEO_DESC</th>\n",
       "      <th>Avg_Payment_Per_Capita</th>\n",
       "    </tr>\n",
       "  </thead>\n",
       "  <tbody>\n",
       "    <tr>\n",
       "      <th>3</th>\n",
       "      <td>2014</td>\n",
       "      <td>AL</td>\n",
       "      <td>8633.223333</td>\n",
       "    </tr>\n",
       "    <tr>\n",
       "      <th>42</th>\n",
       "      <td>2014</td>\n",
       "      <td>AR</td>\n",
       "      <td>8206.013333</td>\n",
       "    </tr>\n",
       "    <tr>\n",
       "      <th>71</th>\n",
       "      <td>2014</td>\n",
       "      <td>AZ</td>\n",
       "      <td>9392.600000</td>\n",
       "    </tr>\n",
       "    <tr>\n",
       "      <th>84</th>\n",
       "      <td>2014</td>\n",
       "      <td>CA</td>\n",
       "      <td>11288.953333</td>\n",
       "    </tr>\n",
       "    <tr>\n",
       "      <th>122</th>\n",
       "      <td>2014</td>\n",
       "      <td>CO</td>\n",
       "      <td>8587.636667</td>\n",
       "    </tr>\n",
       "  </tbody>\n",
       "</table>\n",
       "</div>"
      ],
      "text/plain": [
       "     YEAR BENE_GEO_DESC  Avg_Payment_Per_Capita\n",
       "3    2014            AL             8633.223333\n",
       "42   2014            AR             8206.013333\n",
       "71   2014            AZ             9392.600000\n",
       "84   2014            CA            11288.953333\n",
       "122  2014            CO             8587.636667"
      ]
     },
     "execution_count": 11,
     "metadata": {},
     "output_type": "execute_result"
    }
   ],
   "source": [
    "# Display first few rows\n",
    "state_level_df.head()"
   ]
  },
  {
   "cell_type": "code",
   "execution_count": 12,
   "id": "457cead5-b7c0-4579-a04c-2d7a8b2b645b",
   "metadata": {},
   "outputs": [
    {
     "name": "stdout",
     "output_type": "stream",
     "text": [
      "C:\\Users\\saksh\\Healthcare Pipeline\n"
     ]
    }
   ],
   "source": [
    "import os\n",
    "print(os.getcwd())"
   ]
  },
  {
   "cell_type": "code",
   "execution_count": 17,
   "id": "5b2ed777-0e88-43c9-8ee7-f53ed08af371",
   "metadata": {},
   "outputs": [
    {
     "data": {
      "text/plain": [
       "'C:\\\\Users\\\\saksh\\\\Healthcare Pipeline'"
      ]
     },
     "execution_count": 17,
     "metadata": {},
     "output_type": "execute_result"
    }
   ],
   "source": []
  },
  {
   "cell_type": "code",
   "execution_count": null,
   "id": "c46e23f7-e961-4a18-9561-3821166dd7a0",
   "metadata": {},
   "outputs": [],
   "source": []
  }
 ],
 "metadata": {
  "kernelspec": {
   "display_name": "Python 3 (ipykernel)",
   "language": "python",
   "name": "python3"
  },
  "language_info": {
   "codemirror_mode": {
    "name": "ipython",
    "version": 3
   },
   "file_extension": ".py",
   "mimetype": "text/x-python",
   "name": "python",
   "nbconvert_exporter": "python",
   "pygments_lexer": "ipython3",
   "version": "3.12.7"
  }
 },
 "nbformat": 4,
 "nbformat_minor": 5
}
